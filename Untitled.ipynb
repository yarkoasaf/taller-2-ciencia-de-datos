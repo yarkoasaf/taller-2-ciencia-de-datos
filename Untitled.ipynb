{
 "cells": [
  {
   "cell_type": "raw",
   "id": "7050b8e2-707f-4865-bdf2-9f9992fc6375",
   "metadata": {},
   "source": []
  },
  {
   "cell_type": "markdown",
   "id": "76b2371e",
   "metadata": {},
   "source": [
    "Hola yarko, como estás?"
   ]
  }
 ],
 "metadata": {
  "kernelspec": {
   "display_name": "Python 3 (ipykernel)",
   "language": "python",
   "name": "python3"
  },
  "language_info": {
   "codemirror_mode": {
    "name": "ipython",
    "version": 3
   },
   "file_extension": ".py",
   "mimetype": "text/x-python",
   "name": "python",
   "nbconvert_exporter": "python",
   "pygments_lexer": "ipython3",
   "version": "3.12.0"
  }
 },
 "nbformat": 4,
 "nbformat_minor": 5
}
